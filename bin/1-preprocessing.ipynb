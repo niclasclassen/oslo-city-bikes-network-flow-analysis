{
 "cells": [
  {
   "cell_type": "markdown",
   "metadata": {},
   "source": [
    "# Flow analysis of the Oslo city bikes network\n",
    "## Geospatial Data Science Project"
   ]
  },
  {
   "cell_type": "markdown",
   "metadata": {},
   "source": [
    "## Preprocessing\n",
    "Our data is from ... and we have to preprocess it to be able to use it in our analysis. You only have to run this code once"
   ]
  },
  {
   "cell_type": "code",
   "execution_count": 1,
   "metadata": {},
   "outputs": [],
   "source": [
    "import pandas as pd\n",
    "import os"
   ]
  },
  {
   "cell_type": "markdown",
   "metadata": {},
   "source": [
    "Explain how our folder structure for the data so that the code can be run by anyone\n",
    "Also state how we named our files otherwise code would break"
   ]
  },
  {
   "cell_type": "code",
   "execution_count": 4,
   "metadata": {},
   "outputs": [],
   "source": [
    "# Path to your data directory\n",
    "_path = \"/Users/niclasclassen/Code/Master/geospatial-ds-exam/data\" #! Change this to your data directory"
   ]
  },
  {
   "cell_type": "markdown",
   "metadata": {},
   "source": [
    "### Create one csv file for each year"
   ]
  },
  {
   "cell_type": "code",
   "execution_count": 5,
   "metadata": {},
   "outputs": [
    {
     "name": "stderr",
     "output_type": "stream",
     "text": [
      "/var/folders/sh/fjb1r_5j6gxcy4lzfcc4_4zr0000gn/T/ipykernel_8676/3902773386.py:28: FutureWarning: The behavior of DataFrame concatenation with empty or all-NA entries is deprecated. In a future version, this will no longer exclude empty or all-NA columns when determining the result dtypes. To retain the old behavior, exclude the relevant entries before the concat operation.\n",
      "  yearly_data[year] = pd.concat([yearly_data[year], df])\n",
      "/var/folders/sh/fjb1r_5j6gxcy4lzfcc4_4zr0000gn/T/ipykernel_8676/3902773386.py:28: FutureWarning: The behavior of DataFrame concatenation with empty or all-NA entries is deprecated. In a future version, this will no longer exclude empty or all-NA columns when determining the result dtypes. To retain the old behavior, exclude the relevant entries before the concat operation.\n",
      "  yearly_data[year] = pd.concat([yearly_data[year], df])\n"
     ]
    }
   ],
   "source": [
    "dir_path = os.path.join(_path, 'monthly')\n",
    "export_path = os.path.join(_path, 'preprocessed/yearly')\n",
    "\n",
    "# Check if the export directory exists, if not create it\n",
    "# TODO! extract to helper function so it can be reused\n",
    "if not os.path.exists(export_path):\n",
    "    os.makedirs(export_path)\n",
    "    print(f'Created directory: {export_path}')\n",
    "\n",
    "# Get a list of all csv files in the directory\n",
    "csv_files = [f for f in os.listdir(dir_path) if f.endswith('.csv')]\n",
    "\n",
    "# Dictionary to hold dataframes for each year\n",
    "yearly_data = {}\n",
    "\n",
    "for file in csv_files:\n",
    "    # Extract year and month from filename\n",
    "    year, month = file.split('.')[0].split('_')\n",
    "\n",
    "    # Read csv file into a dataframe\n",
    "    df = pd.read_csv(os.path.join(dir_path, file))\n",
    "\n",
    "    # Add a new column for the month and year\n",
    "    df['month'] = month\n",
    "    df['year'] = year\n",
    "\n",
    "    # Append dataframe to the corresponding year's dataframe\n",
    "    if year in yearly_data:\n",
    "        yearly_data[year] = pd.concat([yearly_data[year], df])\n",
    "    else:\n",
    "        yearly_data[year] = df\n",
    "\n",
    "# Write each year's dataframe to a new csv file in the export directory\n",
    "for year, df in yearly_data.items():\n",
    "    df.to_csv(f'{export_path}/{year}.csv', index=False)"
   ]
  },
  {
   "cell_type": "markdown",
   "metadata": {},
   "source": [
    "### Create one csv file for all the data\n"
   ]
  },
  {
   "cell_type": "code",
   "execution_count": 6,
   "metadata": {},
   "outputs": [
    {
     "name": "stderr",
     "output_type": "stream",
     "text": [
      "/var/folders/sh/fjb1r_5j6gxcy4lzfcc4_4zr0000gn/T/ipykernel_8676/1838934910.py:27: FutureWarning: The behavior of DataFrame concatenation with empty or all-NA entries is deprecated. In a future version, this will no longer exclude empty or all-NA columns when determining the result dtypes. To retain the old behavior, exclude the relevant entries before the concat operation.\n",
      "  combined_df = pd.concat(dataframes)\n"
     ]
    }
   ],
   "source": [
    "dir_path = os.path.join(_path, 'monthly')\n",
    "\n",
    "# Directory to export the combined file\n",
    "export_path = os.path.join(_path, 'preprocessed')\n",
    "\n",
    "# Get a list of all csv files in the directory\n",
    "csv_files = [f for f in os.listdir(dir_path) if f.endswith('.csv')]\n",
    "\n",
    "# List to hold dataframes for each file\n",
    "dataframes = []\n",
    "\n",
    "for file in csv_files:\n",
    "    # Extract year and month from filename\n",
    "    year, month = file.split('.')[0].split('_')\n",
    "\n",
    "    # Read csv file into a dataframe\n",
    "    df = pd.read_csv(os.path.join(dir_path, file))\n",
    "\n",
    "    # Add a new column for the month and year\n",
    "    df['month'] = month\n",
    "    df['year'] = year\n",
    "\n",
    "    # Append dataframe to the list\n",
    "    dataframes.append(df)\n",
    "\n",
    "# Concatenate all dataframes into a single dataframe\n",
    "combined_df = pd.concat(dataframes)\n",
    "\n",
    "# Write the combined dataframe to a new csv file in the export directory\n",
    "combined_df.to_csv(f'{export_path}/combined.csv', index=False)"
   ]
  }
 ],
 "metadata": {
  "kernelspec": {
   "display_name": ".venv",
   "language": "python",
   "name": "python3"
  },
  "language_info": {
   "codemirror_mode": {
    "name": "ipython",
    "version": 3
   },
   "file_extension": ".py",
   "mimetype": "text/x-python",
   "name": "python",
   "nbconvert_exporter": "python",
   "pygments_lexer": "ipython3",
   "version": "3.11.5"
  }
 },
 "nbformat": 4,
 "nbformat_minor": 2
}
