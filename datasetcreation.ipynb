{
 "cells": [
  {
   "cell_type": "code",
   "execution_count": null,
   "id": "initial_id",
   "metadata": {
    "collapsed": true
   },
   "outputs": [],
   "source": [
    "def createstationdf (df):\n",
    "    # Create unique dataframes for start and end stations\n",
    "    start_stations = df[['start_station_id', 'start_station_name', 'start_station_description', 'start_station_latitude', 'start_station_longitude', 'month', 'year']].drop_duplicates()\n",
    "    end_stations = df[['end_station_id', 'end_station_name', 'end_station_description', 'end_station_latitude', 'end_station_longitude', 'month', 'year']].drop_duplicates()\n",
    "    \n",
    "    # Rename columns for uniformity\n",
    "    start_stations.columns = ['station_id', 'station_name', 'station_description', 'latitude', 'longitude', 'month', 'year']\n",
    "    end_stations.columns = ['station_id', 'station_name', 'station_description', 'latitude', 'longitude', 'month', 'year']\n",
    "    \n",
    "    # Concatenate the dataframes\n",
    "    stations = pd.concat([start_stations, end_stations]).drop_duplicates()\n",
    "    \n",
    "    # Create GeoDataFrame\n",
    "    gdf_stations = gpd.GeoDataFrame(\n",
    "        stations, geometry=gpd.points_from_xy(stations.longitude, stations.latitude), crs = 4326\n",
    "    )\n",
    "    return gdf_stations"
   ]
  },
  {
   "cell_type": "code",
   "execution_count": null,
   "outputs": [],
   "source": [
    "def createridesdf (df):\n",
    "    # Create a new DataFrame with necessary columns\n",
    "    df_rides = df[['start_station_id', 'end_station_id', 'started_at', 'ended_at', 'duration', 'start_station_name', 'start_station_description', 'start_station_latitude', 'start_station_longitude', 'end_station_name', 'end_station_description','end_station_latitude', 'end_station_longitude', 'month', 'year']]\n",
    "    \n",
    "    # Create LineString objects\n",
    "    df_rides['geometry'] = df_rides.apply(lambda row: LineString([(row['start_station_longitude'], row['start_station_latitude']), (row['end_station_longitude'], row['end_station_latitude'])]), axis=1)\n",
    "    \n",
    "    # Create GeoDataFrame\n",
    "    gdf_rides = gpd.GeoDataFrame(df_rides, geometry='geometry', crs = 4326)\n",
    "    return gdf_rides"
   ],
   "metadata": {
    "collapsed": false
   },
   "id": "d00e079ba1b8b714"
  }
 ],
 "metadata": {
  "kernelspec": {
   "display_name": "Python 3",
   "language": "python",
   "name": "python3"
  },
  "language_info": {
   "codemirror_mode": {
    "name": "ipython",
    "version": 2
   },
   "file_extension": ".py",
   "mimetype": "text/x-python",
   "name": "python",
   "nbconvert_exporter": "python",
   "pygments_lexer": "ipython2",
   "version": "2.7.6"
  }
 },
 "nbformat": 4,
 "nbformat_minor": 5
}
