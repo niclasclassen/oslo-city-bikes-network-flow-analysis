{
 "cells": [
  {
   "cell_type": "markdown",
   "metadata": {},
   "source": [
    "# Flow visualization - Oslo City Bike Station Network\n",
    "\n",
    "### Authors: Niclas Classen & Manuel Knepper\n",
    "**TL;DR:** This notebook visualizes the flow of bikes between the stations of the Oslo City Bike network. The data for the bike rides is taken from https://oslobysykkel.no/en/open-data and the data for the city districts is taken from https://kartkatalog.dev.geonorge.no/metadata/administrative-enheter-kommuner/041f1e6e-bdbc-4091-b48f-8a5990f3cc5b. The purpose of this notebook is to analyze the flow and cycling patterns of the Oslo City Bike network.\n",
    "\n",
    "**Reproducibility:** The repository contains the raw and preprocessed data as well as the code to reproduce the analysis. Depending on where you want to start the analysis, you can skip certain parts of the code as indicated in the notebook. "
   ]
  },
  {
   "cell_type": "markdown",
   "metadata": {},
   "source": [
    "## Part 1: Data Preprocessing\n",
    "\n",
    "#### Data Sources:\n",
    "- Oslo City Bike Data: https://oslobysykkel.no/en/open-data\n",
    "- Oslo Districts Geojson: https://kartkatalog.dev.geonorge.no/metadata/administrative-enheter-kommuner/041f1e6e-bdbc-4091-b48f-8a5990f3cc5b\n",
    "\n",
    "#### Data Structure\n",
    "The data is stored in the following folder structure:\n",
    "- `data/`: Contains all the raw and preprocessed data\n",
    "- `data/monthly`: Contains the monthly raw data for the bike rides\n",
    "- `data/oslo_districts.geojson`: Contains the geojson file of the Oslo districts\n",
    "\n",
    "It is recommended to use this folder structure as it only requires minor changes in the code to run the analysis.\n",
    "\n",
    "As result of the data preprocessing, we have the following files:\n",
    "- `data/preprocessed_bike_rides.csv`: Contains the preprocessed bike rides data of all months"
   ]
  },
  {
   "cell_type": "code",
   "execution_count": 6,
   "metadata": {},
   "outputs": [],
   "source": [
    "import pandas as pd\n",
    "import os\n",
    "from tqdm import tqdm"
   ]
  },
  {
   "cell_type": "code",
   "execution_count": 7,
   "metadata": {},
   "outputs": [],
   "source": [
    "# Path to your data directory\n",
    "_path = \"/Users/niclasclassen/Code/Master/geospatial-ds-exam/data\" #! Change this to your data directory"
   ]
  },
  {
   "cell_type": "markdown",
   "metadata": {},
   "source": [
    "#### Create one file for all bike rides"
   ]
  },
  {
   "cell_type": "code",
   "execution_count": 11,
   "metadata": {},
   "outputs": [
    {
     "name": "stderr",
     "output_type": "stream",
     "text": [
      "100%|██████████| 61/61 [00:33<00:00,  1.85it/s]\n"
     ]
    }
   ],
   "source": [
    "# The following runs for 2 minutes on a 2019 MacBook Pro with 16GB RAM\n",
    "\n",
    "dir_path = os.path.join(_path, 'monthly')\n",
    "\n",
    "# Directory to export the combined file\n",
    "export_path = os.path.join(_path)\n",
    "\n",
    "# Get a list of all csv files in the directory\n",
    "csv_files = [f for f in os.listdir(dir_path) if f.endswith('.csv')]\n",
    "\n",
    "# List to hold dataframes for each file\n",
    "dataframes = []\n",
    "\n",
    "for file in tqdm(csv_files):\n",
    "    # Extract year and month from filename\n",
    "    year, month = file.split('.')[0].split('_')\n",
    "\n",
    "    # Read csv file into a dataframe\n",
    "    df = pd.read_csv(os.path.join(dir_path, file))\n",
    "\n",
    "    # Add a new column for the month and year\n",
    "    df['month'] = month\n",
    "    df['year'] = year\n",
    "\n",
    "    # Check if the DataFrame is not empty or does not contain only NaN values\n",
    "    if not df.empty and not df.isna().all().all():\n",
    "        # Append dataframe to the list\n",
    "        dataframes.append(df)\n",
    "\n",
    "# Concatenate all dataframes into a single dataframe\n",
    "if dataframes:\n",
    "    combined_df = pd.concat(dataframes)\n",
    "\n",
    "    # Write the combined dataframe to a new csv file in the export directory\n",
    "    combined_df.to_csv(f'{export_path}/preprocessed_bike_rides.csv', index=False)"
   ]
  },
  {
   "cell_type": "markdown",
   "metadata": {},
   "source": [
    "## Part 2: Data Analysis\n",
    "### 2.1 General data analysis"
   ]
  }
 ],
 "metadata": {
  "kernelspec": {
   "display_name": ".venv",
   "language": "python",
   "name": "python3"
  },
  "language_info": {
   "codemirror_mode": {
    "name": "ipython",
    "version": 3
   },
   "file_extension": ".py",
   "mimetype": "text/x-python",
   "name": "python",
   "nbconvert_exporter": "python",
   "pygments_lexer": "ipython3",
   "version": "3.11.5"
  }
 },
 "nbformat": 4,
 "nbformat_minor": 2
}
